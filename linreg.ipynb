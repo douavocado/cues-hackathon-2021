{
 "metadata": {
  "language_info": {
   "codemirror_mode": {
    "name": "ipython",
    "version": 3
   },
   "file_extension": ".py",
   "mimetype": "text/x-python",
   "name": "python",
   "nbconvert_exporter": "python",
   "pygments_lexer": "ipython3",
   "version": "3.7.1-final"
  },
  "orig_nbformat": 2,
  "kernelspec": {
   "name": "python3",
   "display_name": "Python 3.7.1 64-bit (conda)",
   "metadata": {
    "interpreter": {
     "hash": "a20733d2e16c949a1469d40e1adfe43a0a74d020c35bd1193ba7baa471c903e3"
    }
   }
  }
 },
 "nbformat": 4,
 "nbformat_minor": 2,
 "cells": [
  {
   "cell_type": "code",
   "execution_count": 13,
   "metadata": {},
   "outputs": [],
   "source": [
    "import pandas as pd \n",
    "import numpy as np \n",
    "from scipy import stats\n",
    "\n",
    "from sklearn.model_selection import train_test_split\n",
    "from sklearn.linear_model import LinearRegression\n",
    "from sklearn.metrics import mean_squared_error, mean_absolute_error"
   ]
  },
  {
   "source": [
    "Combine original and generated data"
   ],
   "cell_type": "markdown",
   "metadata": {}
  },
  {
   "cell_type": "code",
   "execution_count": 2,
   "metadata": {},
   "outputs": [
    {
     "output_type": "execute_result",
     "data": {
      "text/plain": [
       "      a1  turbine_rating  blade_length  tower_height  built_duration  \\\n",
       "0  250.0          4000.0          69.0         207.0       36.000000   \n",
       "1  250.0          4000.0          69.0         207.0       31.000000   \n",
       "2  250.0           450.0          61.2         173.1       44.000000   \n",
       "3  240.0          2300.0          70.5         201.0       40.333333   \n",
       "4  240.0          2450.0         100.5         270.0       42.000000   \n",
       "\n",
       "   metocean  water_depth  nac_weight  blade_weight  \n",
       "0       1.0          2.0        90.0          22.0  \n",
       "1       1.0          2.0        90.0          22.0  \n",
       "2       1.0          2.0        68.0          21.5  \n",
       "3       1.0          2.0        66.0          20.0  \n",
       "4       1.0          2.0       105.0          17.7  "
      ],
      "text/html": "<div>\n<style scoped>\n    .dataframe tbody tr th:only-of-type {\n        vertical-align: middle;\n    }\n\n    .dataframe tbody tr th {\n        vertical-align: top;\n    }\n\n    .dataframe thead th {\n        text-align: right;\n    }\n</style>\n<table border=\"1\" class=\"dataframe\">\n  <thead>\n    <tr style=\"text-align: right;\">\n      <th></th>\n      <th>a1</th>\n      <th>turbine_rating</th>\n      <th>blade_length</th>\n      <th>tower_height</th>\n      <th>built_duration</th>\n      <th>metocean</th>\n      <th>water_depth</th>\n      <th>nac_weight</th>\n      <th>blade_weight</th>\n    </tr>\n  </thead>\n  <tbody>\n    <tr>\n      <th>0</th>\n      <td>250.0</td>\n      <td>4000.0</td>\n      <td>69.0</td>\n      <td>207.0</td>\n      <td>36.000000</td>\n      <td>1.0</td>\n      <td>2.0</td>\n      <td>90.0</td>\n      <td>22.0</td>\n    </tr>\n    <tr>\n      <th>1</th>\n      <td>250.0</td>\n      <td>4000.0</td>\n      <td>69.0</td>\n      <td>207.0</td>\n      <td>31.000000</td>\n      <td>1.0</td>\n      <td>2.0</td>\n      <td>90.0</td>\n      <td>22.0</td>\n    </tr>\n    <tr>\n      <th>2</th>\n      <td>250.0</td>\n      <td>450.0</td>\n      <td>61.2</td>\n      <td>173.1</td>\n      <td>44.000000</td>\n      <td>1.0</td>\n      <td>2.0</td>\n      <td>68.0</td>\n      <td>21.5</td>\n    </tr>\n    <tr>\n      <th>3</th>\n      <td>240.0</td>\n      <td>2300.0</td>\n      <td>70.5</td>\n      <td>201.0</td>\n      <td>40.333333</td>\n      <td>1.0</td>\n      <td>2.0</td>\n      <td>66.0</td>\n      <td>20.0</td>\n    </tr>\n    <tr>\n      <th>4</th>\n      <td>240.0</td>\n      <td>2450.0</td>\n      <td>100.5</td>\n      <td>270.0</td>\n      <td>42.000000</td>\n      <td>1.0</td>\n      <td>2.0</td>\n      <td>105.0</td>\n      <td>17.7</td>\n    </tr>\n  </tbody>\n</table>\n</div>"
     },
     "metadata": {},
     "execution_count": 2
    }
   ],
   "source": [
    "imp_df = pd.read_csv('cues-hackathon-2021/data_imp.csv', usecols=[1,2,3,4,5,6,7,17,18])\n",
    "gen_df = pd.read_csv('cues-hackathon-2021/generated_data.csv')\n",
    "comb_df = pd.concat([imp_df, gen_df])\n",
    "comb_df.columns = ['a1', 'turbine_rating', 'blade_length', 'tower_height', \n",
    "                'built_duration', 'metocean', 'water_depth', 'nac_weight', 'blade_weight']\n",
    "comb_df.head()"
   ]
  },
  {
   "cell_type": "code",
   "execution_count": 3,
   "metadata": {},
   "outputs": [
    {
     "output_type": "execute_result",
     "data": {
      "text/plain": [
       "            a1  turbine_rating  blade_length  tower_height  built_duration  \\\n",
       "95  111.123683      563.630343     21.863708     55.458928       33.525362   \n",
       "96  136.474203     2601.437891     50.914263    144.238504       37.043075   \n",
       "97  100.710410     2172.636622     60.157801    172.990414       30.298792   \n",
       "98   54.239177     1283.943303     20.566974     68.939863       42.588421   \n",
       "99   91.506799      245.705793     25.732752     73.164315       31.967963   \n",
       "\n",
       "    metocean  water_depth  nac_weight  blade_weight  \n",
       "95       0.0          0.0   88.615360     10.073064  \n",
       "96       1.0          2.0   35.029473     22.126964  \n",
       "97       1.0          1.0   19.449733     17.421944  \n",
       "98       0.0          0.0   92.303003      8.497544  \n",
       "99       1.0          0.0   23.543906     10.214273  "
      ],
      "text/html": "<div>\n<style scoped>\n    .dataframe tbody tr th:only-of-type {\n        vertical-align: middle;\n    }\n\n    .dataframe tbody tr th {\n        vertical-align: top;\n    }\n\n    .dataframe thead th {\n        text-align: right;\n    }\n</style>\n<table border=\"1\" class=\"dataframe\">\n  <thead>\n    <tr style=\"text-align: right;\">\n      <th></th>\n      <th>a1</th>\n      <th>turbine_rating</th>\n      <th>blade_length</th>\n      <th>tower_height</th>\n      <th>built_duration</th>\n      <th>metocean</th>\n      <th>water_depth</th>\n      <th>nac_weight</th>\n      <th>blade_weight</th>\n    </tr>\n  </thead>\n  <tbody>\n    <tr>\n      <th>95</th>\n      <td>111.123683</td>\n      <td>563.630343</td>\n      <td>21.863708</td>\n      <td>55.458928</td>\n      <td>33.525362</td>\n      <td>0.0</td>\n      <td>0.0</td>\n      <td>88.615360</td>\n      <td>10.073064</td>\n    </tr>\n    <tr>\n      <th>96</th>\n      <td>136.474203</td>\n      <td>2601.437891</td>\n      <td>50.914263</td>\n      <td>144.238504</td>\n      <td>37.043075</td>\n      <td>1.0</td>\n      <td>2.0</td>\n      <td>35.029473</td>\n      <td>22.126964</td>\n    </tr>\n    <tr>\n      <th>97</th>\n      <td>100.710410</td>\n      <td>2172.636622</td>\n      <td>60.157801</td>\n      <td>172.990414</td>\n      <td>30.298792</td>\n      <td>1.0</td>\n      <td>1.0</td>\n      <td>19.449733</td>\n      <td>17.421944</td>\n    </tr>\n    <tr>\n      <th>98</th>\n      <td>54.239177</td>\n      <td>1283.943303</td>\n      <td>20.566974</td>\n      <td>68.939863</td>\n      <td>42.588421</td>\n      <td>0.0</td>\n      <td>0.0</td>\n      <td>92.303003</td>\n      <td>8.497544</td>\n    </tr>\n    <tr>\n      <th>99</th>\n      <td>91.506799</td>\n      <td>245.705793</td>\n      <td>25.732752</td>\n      <td>73.164315</td>\n      <td>31.967963</td>\n      <td>1.0</td>\n      <td>0.0</td>\n      <td>23.543906</td>\n      <td>10.214273</td>\n    </tr>\n  </tbody>\n</table>\n</div>"
     },
     "metadata": {},
     "execution_count": 3
    }
   ],
   "source": [
    "comb_df['water_depth'] = np.round(comb_df['water_depth'])\n",
    "comb_df['metocean'] = np.round(comb_df['metocean'])\n",
    "comb_df.tail()"
   ]
  },
  {
   "cell_type": "code",
   "execution_count": 4,
   "metadata": {},
   "outputs": [],
   "source": [
    "nacelle_test = comb_df[comb_df['nac_weight'].isna()]\n",
    "nacelle_train = comb_df[comb_df['nac_weight'].notnull()]\n",
    "\n",
    "blade_test = comb_df[comb_df['blade_weight'].isna()]\n",
    "blade_train = comb_df[comb_df['blade_weight'].notnull()]"
   ]
  },
  {
   "cell_type": "code",
   "execution_count": 5,
   "metadata": {},
   "outputs": [],
   "source": [
    "# nacelle_test.to_csv('gen_data/nacelle_test.csv', index=False)\n",
    "# nacelle_train.to_csv('gen_data/nacelle_train.csv', index=False)\n",
    "\n",
    "# blade_test.to_csv('gen_data/blade_test.csv', index=False)\n",
    "# blade_train.to_csv('gen_data/blade_train.csv', index=False)"
   ]
  },
  {
   "cell_type": "code",
   "execution_count": 6,
   "metadata": {},
   "outputs": [
    {
     "output_type": "execute_result",
     "data": {
      "text/plain": [
       "       a1  turbine_rating  blade_length  tower_height  built_duration  \\\n",
       "5   232.0          1400.0          42.0         126.0       36.000000   \n",
       "6   225.0          1250.0          38.5         115.5       36.000000   \n",
       "21  150.0          1700.0          27.6          82.8       31.333333   \n",
       "29  140.0          1140.0          30.0          90.0       37.000000   \n",
       "\n",
       "    metocean  water_depth  nac_weight  blade_weight  \n",
       "5        1.0          1.0       120.0           NaN  \n",
       "6        0.0          0.0        30.0           NaN  \n",
       "21       1.0          2.0         NaN           NaN  \n",
       "29       0.0          0.0        51.0           NaN  "
      ],
      "text/html": "<div>\n<style scoped>\n    .dataframe tbody tr th:only-of-type {\n        vertical-align: middle;\n    }\n\n    .dataframe tbody tr th {\n        vertical-align: top;\n    }\n\n    .dataframe thead th {\n        text-align: right;\n    }\n</style>\n<table border=\"1\" class=\"dataframe\">\n  <thead>\n    <tr style=\"text-align: right;\">\n      <th></th>\n      <th>a1</th>\n      <th>turbine_rating</th>\n      <th>blade_length</th>\n      <th>tower_height</th>\n      <th>built_duration</th>\n      <th>metocean</th>\n      <th>water_depth</th>\n      <th>nac_weight</th>\n      <th>blade_weight</th>\n    </tr>\n  </thead>\n  <tbody>\n    <tr>\n      <th>5</th>\n      <td>232.0</td>\n      <td>1400.0</td>\n      <td>42.0</td>\n      <td>126.0</td>\n      <td>36.000000</td>\n      <td>1.0</td>\n      <td>1.0</td>\n      <td>120.0</td>\n      <td>NaN</td>\n    </tr>\n    <tr>\n      <th>6</th>\n      <td>225.0</td>\n      <td>1250.0</td>\n      <td>38.5</td>\n      <td>115.5</td>\n      <td>36.000000</td>\n      <td>0.0</td>\n      <td>0.0</td>\n      <td>30.0</td>\n      <td>NaN</td>\n    </tr>\n    <tr>\n      <th>21</th>\n      <td>150.0</td>\n      <td>1700.0</td>\n      <td>27.6</td>\n      <td>82.8</td>\n      <td>31.333333</td>\n      <td>1.0</td>\n      <td>2.0</td>\n      <td>NaN</td>\n      <td>NaN</td>\n    </tr>\n    <tr>\n      <th>29</th>\n      <td>140.0</td>\n      <td>1140.0</td>\n      <td>30.0</td>\n      <td>90.0</td>\n      <td>37.000000</td>\n      <td>0.0</td>\n      <td>0.0</td>\n      <td>51.0</td>\n      <td>NaN</td>\n    </tr>\n  </tbody>\n</table>\n</div>"
     },
     "metadata": {},
     "execution_count": 6
    }
   ],
   "source": [
    "blade_test"
   ]
  },
  {
   "cell_type": "code",
   "execution_count": 27,
   "metadata": {},
   "outputs": [],
   "source": [
    "# get confidence interval (should technically use the t-dist one)\n",
    "\n",
    "def get_prediction_interval(pred_val, y, predictions, pi=.95):\n",
    "    \"\"\"\n",
    "    Get a prediction interval for a linear regression.\n",
    "    Args: \n",
    "        - Single prediction, \n",
    "        - y_test\n",
    "        - All predictions,\n",
    "        - Prediction interval threshold (default = .95) \n",
    "    OUTPUT: \n",
    "        - Prediction interval for single prediction\n",
    "    \"\"\"\n",
    "    \n",
    "    #get standard deviation of y\n",
    "    sum_errs = np.sum((y - predictions)**2)\n",
    "    stdev = np.sqrt(1 / (len(y) - 2) * sum_errs)\n",
    "    #get interval from standard deviation\n",
    "    one_minus_pi = 1 - pi\n",
    "    ppf_lookup = 1 - (one_minus_pi / 2)\n",
    "    z_score = stats.norm.ppf(ppf_lookup)\n",
    "    interval = z_score * stdev\n",
    "    #generate prediction interval lower and upper bound\n",
    "    lower, upper = pred_val - interval, pred_val + interval\n",
    "    return lower, pred_val, upper"
   ]
  },
  {
   "cell_type": "code",
   "execution_count": 32,
   "metadata": {},
   "outputs": [],
   "source": [
    "nac_y_train = nacelle_train['nac_weight']\n",
    "nac_X_train = nacelle_train.drop(columns=['nac_weight', 'blade_weight', 'tower_height'])\n",
    "\n",
    "nac_y_test = nacelle_test['nac_weight']\n",
    "nac_X_test = nacelle_test.drop(columns=['nac_weight', 'blade_weight', 'tower_height'])"
   ]
  },
  {
   "source": [
    "Linear Regression model to predict nacelle weight"
   ],
   "cell_type": "markdown",
   "metadata": {}
  },
  {
   "cell_type": "code",
   "execution_count": 33,
   "metadata": {},
   "outputs": [
    {
     "output_type": "stream",
     "name": "stdout",
     "text": [
      "R2 score\n0.6159815732067264\ntrain MAE\n16.868740656981874\ntrain RMSE\n21.4769463946805\n"
     ]
    },
    {
     "output_type": "execute_result",
     "data": {
      "text/plain": [
       "[(37.3101219441635, 79.68762813690631, 122.06513432964913),\n",
       " (21.327409791076825, 63.70491598381964, 106.08242217656246),\n",
       " (17.22978866473121, 59.607294857474024, 101.98480105021684),\n",
       " (51.23688363936584, 93.61438983210866, 135.99189602485148),\n",
       " (21.659072037953464, 64.03657823069628, 106.41408442343909),\n",
       " (42.4599822346443, 84.83748842738711, 127.21499462012993),\n",
       " (17.947429812585575, 60.32493600532839, 102.7024421980712),\n",
       " (-17.615361903990486, 24.762144288752328, 67.13965048149514),\n",
       " (-18.380775931733673, 23.99673026100914, 66.37423645375196),\n",
       " (8.258994827028658, 50.63650101977147, 93.01400721251429),\n",
       " (-15.981388183433257, 26.396118009309557, 68.77362420205237),\n",
       " (-27.698446583999463, 14.679059608743351, 57.056565801486165),\n",
       " (-18.934997765594044, 23.44250842714877, 65.82001461989158),\n",
       " (-30.82991627959611, 11.547589913146705, 53.92509610588952),\n",
       " (-36.10873336792231, 6.2687728248205055, 48.646279017563316),\n",
       " (-4.596850756226502, 37.78065543651631, 80.15816162925913)]"
      ]
     },
     "metadata": {},
     "execution_count": 33
    }
   ],
   "source": [
    "linreg = LinearRegression()\n",
    "linreg.fit(nac_X_train, nac_y_train)\n",
    "\n",
    "print(\"R2 score\")\n",
    "print(linreg.score(nac_X_train, nac_y_train))\n",
    "\n",
    "nac_x_train_pred = linreg.predict(nac_X_train)\n",
    "\n",
    "print(\"train MAE\")\n",
    "print(mean_absolute_error(nac_x_train_pred, nac_y_train))\n",
    "\n",
    "print(\"train RMSE\")\n",
    "print(np.sqrt(mean_squared_error(nac_x_train_pred, nac_y_train)))\n",
    "\n",
    "nac_x_test_pred = linreg.predict(nac_X_test)\n",
    "results = []\n",
    "for nac_pred in nac_x_test_pred:\n",
    "    results.append(get_prediction_interval(nac_pred, nac_y_train, nac_x_train_pred))\n",
    "results"
   ]
  },
  {
   "cell_type": "code",
   "execution_count": 34,
   "metadata": {},
   "outputs": [],
   "source": [
    "blade_y_train = blade_train['blade_weight']\n",
    "blade_X_train = blade_train.drop(columns=['nac_weight', 'blade_weight', 'tower_height'])\n",
    "\n",
    "blade_y_test = blade_test['blade_weight']\n",
    "blade_X_test = blade_test.drop(columns=['nac_weight', 'blade_weight', 'tower_height'])\n"
   ]
  },
  {
   "source": [
    "Linear Regression model to predict blade weight"
   ],
   "cell_type": "markdown",
   "metadata": {}
  },
  {
   "cell_type": "code",
   "execution_count": 35,
   "metadata": {},
   "outputs": [
    {
     "output_type": "stream",
     "name": "stdout",
     "text": [
      "R2 score\n0.6003485688857237\ntrain MAE\n3.101988394504575\ntrain RMSE\n4.358909811200159\n"
     ]
    },
    {
     "output_type": "execute_result",
     "data": {
      "text/plain": [
       "[(10.890190916820513, 19.486726995999554, 28.083263075178593),\n",
       " (5.164531654924977, 13.761067734104017, 22.357603813283056),\n",
       " (11.262896653118359, 19.8594327322974, 28.45596881147644),\n",
       " (2.264041432417649, 10.86057751159669, 19.45711359077573)]"
      ]
     },
     "metadata": {},
     "execution_count": 35
    }
   ],
   "source": [
    "linreg = LinearRegression()\n",
    "linreg.fit(blade_X_train, blade_y_train)\n",
    "\n",
    "print(\"R2 score\")\n",
    "print(linreg.score(blade_X_train, blade_y_train))\n",
    "\n",
    "blade_x_train_pred = linreg.predict(blade_X_train)\n",
    "\n",
    "print(\"train MAE\")\n",
    "print(mean_absolute_error(blade_x_train_pred, blade_y_train))\n",
    "\n",
    "print(\"train RMSE\")\n",
    "print(np.sqrt(mean_squared_error(blade_x_train_pred, blade_y_train)))\n",
    "\n",
    "blade_x_test_pred = linreg.predict(blade_X_test)\n",
    "blade_x_test_pred\n",
    "\n",
    "results = []\n",
    "for blade_pred in blade_x_test_pred:\n",
    "    results.append(get_prediction_interval(blade_pred, blade_y_train, blade_x_train_pred))\n",
    "results"
   ]
  },
  {
   "cell_type": "code",
   "execution_count": 11,
   "metadata": {},
   "outputs": [
    {
     "output_type": "execute_result",
     "data": {
      "text/plain": [
       "4.8936937183978495"
      ]
     },
     "metadata": {},
     "execution_count": 11
    }
   ],
   "source": [
    "mean_blade = blade_y_train.mean()\n",
    "mean_blade = [mean_blade]*len(blade_y_train)\n",
    "mean_absolute_error(mean_blade, blade_x_train_pred)"
   ]
  },
  {
   "cell_type": "code",
   "execution_count": 12,
   "metadata": {},
   "outputs": [
    {
     "output_type": "execute_result",
     "data": {
      "text/plain": [
       "22.3086233195985"
      ]
     },
     "metadata": {},
     "execution_count": 12
    }
   ],
   "source": [
    "mean_nac = nac_y_train.mean()\n",
    "mean_nac = [mean_nac]*len(nac_y_train)\n",
    "mean_absolute_error(mean_nac, nac_x_train_pred)"
   ]
  },
  {
   "cell_type": "code",
   "execution_count": null,
   "metadata": {},
   "outputs": [],
   "source": []
  }
 ]
}